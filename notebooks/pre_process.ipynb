{
 "cells": [
  {
   "cell_type": "code",
   "execution_count": 12,
   "id": "854dcc6f",
   "metadata": {},
   "outputs": [],
   "source": [
    "import pandas as pd\n",
    "import matplotlib.pyplot as plt\n",
    "import numpy as np"
   ]
  },
  {
   "cell_type": "code",
   "execution_count": 3,
   "id": "68027f91",
   "metadata": {},
   "outputs": [
    {
     "data": {
      "application/vnd.microsoft.datawrangler.viewer.v0+json": {
       "columns": [
        {
         "name": "index",
         "rawType": "int64",
         "type": "integer"
        },
        {
         "name": "title",
         "rawType": "object",
         "type": "string"
        },
        {
         "name": "pubDate",
         "rawType": "object",
         "type": "string"
        },
        {
         "name": "guid",
         "rawType": "object",
         "type": "string"
        },
        {
         "name": "link",
         "rawType": "object",
         "type": "string"
        },
        {
         "name": "description",
         "rawType": "object",
         "type": "string"
        }
       ],
       "ref": "b3330ecf-fb12-4047-b2af-9a1d12d630f0",
       "rows": [
        [
         "0",
         "Ukraine: Angry Zelensky vows to punish Russian atrocities",
         "Mon, 07 Mar 2022 08:01:56 GMT",
         "https://www.bbc.co.uk/news/world-europe-60638042",
         "https://www.bbc.co.uk/news/world-europe-60638042?at_medium=RSS&at_campaign=KARANGA",
         "The Ukrainian president says the country will not forgive or forget those who murder its civilians."
        ],
        [
         "1",
         "War in Ukraine: Taking cover in a town under attack",
         "Sun, 06 Mar 2022 22:49:58 GMT",
         "https://www.bbc.co.uk/news/world-europe-60641873",
         "https://www.bbc.co.uk/news/world-europe-60641873?at_medium=RSS&at_campaign=KARANGA",
         "Jeremy Bowen was on the frontline in Irpin, as residents came under Russian fire while trying to flee."
        ],
        [
         "2",
         "Ukraine war 'catastrophic for global food'",
         "Mon, 07 Mar 2022 00:14:42 GMT",
         "https://www.bbc.co.uk/news/business-60623941",
         "https://www.bbc.co.uk/news/business-60623941?at_medium=RSS&at_campaign=KARANGA",
         "One of the world's biggest fertiliser firms says the conflict could deliver a shock to food supplies."
        ],
        [
         "3",
         "Manchester Arena bombing: Saffie Roussos's parents on hearing the truth",
         "Mon, 07 Mar 2022 00:05:40 GMT",
         "https://www.bbc.co.uk/news/uk-60579079",
         "https://www.bbc.co.uk/news/uk-60579079?at_medium=RSS&at_campaign=KARANGA",
         "The parents of the Manchester Arena bombing's youngest victim speak about their life since she died."
        ],
        [
         "4",
         "Ukraine conflict: Oil price soars to highest level since 2008",
         "Mon, 07 Mar 2022 08:15:53 GMT",
         "https://www.bbc.co.uk/news/business-60642786",
         "https://www.bbc.co.uk/news/business-60642786?at_medium=RSS&at_campaign=KARANGA",
         "Consumers are feeling the impact of higher energy costs as fuel prices and household bills jump."
        ],
        [
         "5",
         "Ukraine war: PM to hold talks with world leaders on further sanctions",
         "Mon, 07 Mar 2022 08:33:29 GMT",
         "https://www.bbc.co.uk/news/uk-60642926",
         "https://www.bbc.co.uk/news/uk-60642926?at_medium=RSS&at_campaign=KARANGA",
         "Boris Johnson is to meet the Canadian and Dutch PMs, as MPs debate new laws targeting oligarchs."
        ],
        [
         "6",
         "Ukraine war: UK grants 50 Ukrainian refugee visas so far",
         "Mon, 07 Mar 2022 08:09:21 GMT",
         "https://www.bbc.co.uk/news/uk-60640460",
         "https://www.bbc.co.uk/news/uk-60640460?at_medium=RSS&at_campaign=KARANGA",
         "The home secretary says she is \"surging capacity\" as about 1% of 5,500 applications are granted."
        ],
        [
         "7",
         "TikTok limits services as Netflix pulls out of Russia",
         "Mon, 07 Mar 2022 00:11:59 GMT",
         "https://www.bbc.co.uk/news/business-60641988",
         "https://www.bbc.co.uk/news/business-60641988?at_medium=RSS&at_campaign=KARANGA",
         "TikTok suspends live streaming and new content from its platform, while Russians can no longer access Netflix."
        ],
        [
         "8",
         "Covid: Fourth jab for Scotland's vulnerable, and testing wind down fears in Wales",
         "Mon, 07 Mar 2022 07:46:30 GMT",
         "https://www.bbc.co.uk/news/uk-60640975",
         "https://www.bbc.co.uk/news/uk-60640975?at_medium=RSS&at_campaign=KARANGA",
         "Five things you need to know about the coronavirus pandemic this Monday morning."
        ],
        [
         "9",
         "Protests across Russia see thousands detained",
         "Sun, 06 Mar 2022 23:23:59 GMT",
         "https://www.bbc.co.uk/news/world-europe-60640204",
         "https://www.bbc.co.uk/news/world-europe-60640204?at_medium=RSS&at_campaign=KARANGA",
         "People have been held in 53 cities, from St Petersburg in the west to Vladivostok in the east."
        ],
        [
         "10",
         "Ukraine conflict: Your guide to understanding day 11",
         "Sun, 06 Mar 2022 21:30:47 GMT",
         "https://www.bbc.co.uk/news/world-europe-60640063",
         "https://www.bbc.co.uk/news/world-europe-60640063?at_medium=RSS&at_campaign=KARANGA",
         "More than 1.5 million Ukrainians have fled the country. Here's what you need to know after day 11 of the war."
        ],
        [
         "11",
         "Russian gymnast investigated for wearing pro-war symbol on podium next to Ukrainian",
         "Sun, 06 Mar 2022 20:10:43 GMT",
         "https://www.bbc.co.uk/sport/gymnastics/60641891",
         "https://www.bbc.co.uk/sport/gymnastics/60641891?at_medium=RSS&at_campaign=KARANGA",
         "Russian gymnast Ivan Kuliak is being investigated after wearing a national war symbol on his leotard as he stood next to a Ukrainian rival on the podium in Qatar on Saturday."
        ],
        [
         "12",
         "Ukraine: With placards and tears, Poles are greeting refugees like family",
         "Sun, 06 Mar 2022 23:56:07 GMT",
         "https://www.bbc.co.uk/news/world-europe-60641217",
         "https://www.bbc.co.uk/news/world-europe-60641217?at_medium=RSS&at_campaign=KARANGA",
         "A Polish couple, messaged from Taiwan, have come to meet a Ukrainian refugee - welcome to Przemysl."
        ],
        [
         "13",
         "Twitter is part of our war effort - Ukraine minister",
         "Mon, 07 Mar 2022 00:02:15 GMT",
         "https://www.bbc.co.uk/news/technology-60608222",
         "https://www.bbc.co.uk/news/technology-60608222?at_medium=RSS&at_campaign=KARANGA",
         "Ukraine's youngest cabinet minister, 31-year-old Mykhailo Fedorov, is leading a cyber-battle against Russia."
        ],
        [
         "14",
         "Ukraine invasion: Volunteers 'working on autopilot'",
         "Mon, 07 Mar 2022 00:01:07 GMT",
         "https://www.bbc.co.uk/news/world-europe-60641870",
         "https://www.bbc.co.uk/news/world-europe-60641870?at_medium=RSS&at_campaign=KARANGA",
         "Within hours of Russia’s invasion, all over Ukraine, volunteers offered their services."
        ],
        [
         "15",
         "Ukraine crisis: The West fights back against Putin the disruptor",
         "Sun, 06 Mar 2022 07:25:00 GMT",
         "https://www.bbc.co.uk/news/world-us-canada-60597186",
         "https://www.bbc.co.uk/news/world-us-canada-60597186?at_medium=RSS&at_campaign=KARANGA",
         "Several US presidents have failed to get the measure of him but now Europe has joined the fray things may change."
        ],
        [
         "16",
         "Mariupol: Fires, no water, and bodies in the street",
         "Sun, 06 Mar 2022 09:26:59 GMT",
         "https://www.bbc.co.uk/news/world-europe-60637338",
         "https://www.bbc.co.uk/news/world-europe-60637338?at_medium=RSS&at_campaign=KARANGA",
         "Maxim, a 27-year-old city resident, tells the BBC what happened after the first ceasefire collapsed."
        ],
        [
         "17",
         "The young Ukrainians battling pro-Russian trolls",
         "Sun, 06 Mar 2022 00:19:21 GMT",
         "https://www.bbc.co.uk/news/blogs-trending-60596133",
         "https://www.bbc.co.uk/news/blogs-trending-60596133?at_medium=RSS&at_campaign=KARANGA",
         "Conspiracy theories and trolls are adding to the chaos of war."
        ],
        [
         "18",
         "Ukraine maps: New agreed ceasefire breaks down in south",
         "Sun, 06 Mar 2022 14:10:23 GMT",
         "https://www.bbc.co.uk/news/world-europe-60506682",
         "https://www.bbc.co.uk/news/world-europe-60506682?at_medium=RSS&at_campaign=KARANGA",
         "A ceasefire agreement in the southern city of Mariupol, breaks down a second time, with both sides blaming each other."
        ],
        [
         "19",
         "Five ways the Ukraine war could push up prices",
         "Fri, 04 Mar 2022 22:09:49 GMT",
         "https://www.bbc.co.uk/news/business-60509453",
         "https://www.bbc.co.uk/news/business-60509453?at_medium=RSS&at_campaign=KARANGA",
         "Prices for everyday items could go up at a time when the cost of living is already rising."
        ],
        [
         "20",
         "Ukraine: 'We try to tell them the truth' - parenting in wartime",
         "Sun, 06 Mar 2022 00:17:05 GMT",
         "https://www.bbc.co.uk/news/world-europe-60632147",
         "https://www.bbc.co.uk/news/world-europe-60632147?at_medium=RSS&at_campaign=KARANGA",
         "In Ukraine, families are having to adapt to being at war. But what do you tell the children?"
        ],
        [
         "21",
         "War in Ukraine: Russian helicopter shot down by missile",
         "Sat, 05 Mar 2022 12:26:02 GMT",
         "https://www.bbc.co.uk/news/world-europe-60630352",
         "https://www.bbc.co.uk/news/world-europe-60630352?at_medium=RSS&at_campaign=KARANGA",
         "The video, shared by Ukrainian armed forces, shows the helicopter being hit by a missile."
        ],
        [
         "22",
         "European peace seems as fragile as ever",
         "Sat, 05 Mar 2022 00:36:11 GMT",
         "https://www.bbc.co.uk/news/world-60622772",
         "https://www.bbc.co.uk/news/world-60622772?at_medium=RSS&at_campaign=KARANGA",
         "The shifting of European history's tectonic plates is not really that unexpected, explains Kevin Connolly."
        ],
        [
         "23",
         "War in Ukraine: Russians on boycotts, sanctions and cancellations",
         "Fri, 04 Mar 2022 18:17:55 GMT",
         "https://www.bbc.co.uk/news/world-europe-60585720",
         "https://www.bbc.co.uk/news/world-europe-60585720?at_medium=RSS&at_campaign=KARANGA",
         "Russia is being hit by a global backlash after it invaded Ukraine. How does it feel to be shunned?"
        ],
        [
         "24",
         "Ukraine war: 'My city's being shelled, but mum won’t believe me'",
         "Fri, 04 Mar 2022 18:32:49 GMT",
         "https://www.bbc.co.uk/news/world-europe-60600487",
         "https://www.bbc.co.uk/news/world-europe-60600487?at_medium=RSS&at_campaign=KARANGA",
         "These Ukrainians say their Russian relatives only trust the narratives they see on TV at home."
        ],
        [
         "25",
         "Nuclear plant: How close was nuclear plant attack to catastrophe?",
         "Fri, 04 Mar 2022 19:32:49 GMT",
         "https://www.bbc.co.uk/news/world-60609633",
         "https://www.bbc.co.uk/news/world-60609633?at_medium=RSS&at_campaign=KARANGA",
         "After Russia seizes two nuclear plant sites, experts weigh the risk to Ukraine and the world at large."
        ],
        [
         "26",
         "Ukraine war: Why Kherson and Mariupol are key to Russian success",
         "Fri, 04 Mar 2022 12:54:25 GMT",
         "https://www.bbc.co.uk/news/world-europe-60604876",
         "https://www.bbc.co.uk/news/world-europe-60604876?at_medium=RSS&at_campaign=KARANGA",
         "There are both strategic and historical reasons why the offensive in southern Ukraine is vital for Russia."
        ],
        [
         "27",
         "The Papers: 'Running for their lives' as terror 'rains down'",
         "Mon, 07 Mar 2022 05:22:30 GMT",
         "https://www.bbc.co.uk/news/blogs-the-papers-60642348",
         "https://www.bbc.co.uk/news/blogs-the-papers-60642348?at_medium=RSS&at_campaign=KARANGA",
         "Civilian attempts to flee Ukrainian cities being targeted by Russian forces lead Monday's papers."
        ],
        [
         "28",
         "Ukraine invasion: Military couple marry on the frontline",
         "Sun, 06 Mar 2022 19:00:39 GMT",
         "https://www.bbc.co.uk/news/world-europe-60641868",
         "https://www.bbc.co.uk/news/world-europe-60641868?at_medium=RSS&at_campaign=KARANGA",
         "Lesya and Valeri, both civil defence volunteers, tied the knot at a checkpoint near Kyiv."
        ],
        [
         "29",
         "Ukraine invasion: The children with cancer fleeing war at home",
         "Mon, 07 Mar 2022 00:02:05 GMT",
         "https://www.bbc.co.uk/news/world-europe-60621253",
         "https://www.bbc.co.uk/news/world-europe-60621253?at_medium=RSS&at_campaign=KARANGA",
         "The NGO Herosi are trying to find places for the patients in medical care across Europe."
        ],
        [
         "30",
         "'They thought he was too young for heart disease'",
         "Sun, 06 Mar 2022 09:14:03 GMT",
         "https://www.bbc.co.uk/news/uk-england-cambridgeshire-60610329",
         "https://www.bbc.co.uk/news/uk-england-cambridgeshire-60610329?at_medium=RSS&at_campaign=KARANGA",
         "A mother whose son died from heart disease urges parents to know the signs and trust their instincts."
        ],
        [
         "31",
         "Zeebrugge: 'You had to cling on for your dear life'",
         "Sun, 06 Mar 2022 00:19:31 GMT",
         "https://www.bbc.co.uk/news/60608322",
         "https://www.bbc.co.uk/news/60608322?at_medium=RSS&at_campaign=KARANGA",
         "Lynette Lee survived the Zeebrugge ferry disaster 35 years ago - one that killed 193 people."
        ],
        [
         "32",
         "Belfast: The sounds of the city during Covid lockdowns",
         "Sun, 06 Mar 2022 00:27:54 GMT",
         "https://www.bbc.co.uk/news/uk-northern-ireland-60601083",
         "https://www.bbc.co.uk/news/uk-northern-ireland-60601083?at_medium=RSS&at_campaign=KARANGA",
         "A student at Queen's University Belfast used his daily walks to record the sounds of Covid lockdowns."
        ],
        [
         "33",
         "Mandibuloacral dysplasia: 'You feel guilty not wanting her to get older'",
         "Sun, 06 Mar 2022 00:23:18 GMT",
         "https://www.bbc.co.uk/news/uk-england-leicestershire-60587020",
         "https://www.bbc.co.uk/news/uk-england-leicestershire-60587020?at_medium=RSS&at_campaign=KARANGA",
         "The parents of five-year-old Isla say she is the only child in the world with a rare condition."
        ],
        [
         "34",
         "Man in dinghy in near miss with Southampton-bound container ship",
         "Sun, 06 Mar 2022 17:11:51 GMT",
         "https://www.bbc.co.uk/news/uk-england-hampshire-60639923",
         "https://www.bbc.co.uk/news/uk-england-hampshire-60639923?at_medium=RSS&at_campaign=KARANGA",
         "The moment a man swims out of the path of a container ship off Southampton is captured on a phone."
        ],
        [
         "35",
         "Why doesn't Ukraine attack the Russian convoy? And other questions",
         "Fri, 04 Mar 2022 18:04:14 GMT",
         "https://www.bbc.co.uk/news/world-60617145",
         "https://www.bbc.co.uk/news/world-60617145?at_medium=RSS&at_campaign=KARANGA",
         "Correspondents and experts answer questions from readers on the BBC News website"
        ],
        [
         "36",
         "The sophisticated tech predicting if an advert will work",
         "Mon, 07 Mar 2022 00:20:23 GMT",
         "https://www.bbc.co.uk/news/business-60584596",
         "https://www.bbc.co.uk/news/business-60584596?at_medium=RSS&at_campaign=KARANGA",
         "Ad-testing firms are using real-time software, webcams to find out if ads resonate with customers."
        ],
        [
         "37",
         "Roman fort survey near Melrose aims to unveil more secrets",
         "Sun, 06 Mar 2022 07:45:15 GMT",
         "https://www.bbc.co.uk/news/uk-scotland-south-scotland-60602352",
         "https://www.bbc.co.uk/news/uk-scotland-south-scotland-60602352?at_medium=RSS&at_campaign=KARANGA",
         "Ground penetrating radar will give a clearer picture of the story of Trimontium in the Borders."
        ],
        [
         "38",
         "Russia oligarchs: The mega-rich men facing global sanctions",
         "Sat, 05 Mar 2022 00:34:34 GMT",
         "https://www.bbc.co.uk/news/uk-60593022",
         "https://www.bbc.co.uk/news/uk-60593022?at_medium=RSS&at_campaign=KARANGA",
         "President Putin has for years warned Russia's richest to protect themselves against sanctions."
        ],
        [
         "39",
         "From Grozny to Aleppo to Ukraine, Russia meets resistance with more firepower",
         "Sat, 05 Mar 2022 16:37:11 GMT",
         "https://www.bbc.co.uk/news/world-europe-60631433",
         "https://www.bbc.co.uk/news/world-europe-60631433?at_medium=RSS&at_campaign=KARANGA",
         "Russia answers resistance with big guns and sieges. Ukrainians pray that will not happen to them, writes the BBC's Jeremy Bowen in Kyiv."
        ],
        [
         "40",
         "Jane Campion: Power of the Dog director thrilled with her Hollywood comeback",
         "Sun, 06 Mar 2022 00:13:54 GMT",
         "https://www.bbc.co.uk/news/entertainment-arts-60562041",
         "https://www.bbc.co.uk/news/entertainment-arts-60562041?at_medium=RSS&at_campaign=KARANGA",
         "The award-winning director is championing women in Hollywood after a break away from the big screen."
        ],
        [
         "41",
         "BBC Ukrainian editor: 'My mother called to say she'd managed to buy bread'",
         "Sun, 06 Mar 2022 01:02:02 GMT",
         "https://www.bbc.co.uk/news/world-europe-60633888",
         "https://www.bbc.co.uk/news/world-europe-60633888?at_medium=RSS&at_campaign=KARANGA",
         "In the second week of war, the BBC's Ukrainian editor says empty shelves are an increasing reality."
        ],
        [
         "42",
         "War in Ukraine: Russian invasion fuels Finnish support for Nato",
         "Sun, 06 Mar 2022 02:10:21 GMT",
         "https://www.bbc.co.uk/news/world-europe-60626536",
         "https://www.bbc.co.uk/news/world-europe-60626536?at_medium=RSS&at_campaign=KARANGA",
         "President Putin's devastating attack on Ukraine leaves countries in the region worried about their future."
        ],
        [
         "43",
         "Identity: What does it mean to be Welsh?",
         "Sun, 06 Mar 2022 08:10:02 GMT",
         "https://www.bbc.co.uk/news/uk-wales-60590685",
         "https://www.bbc.co.uk/news/uk-wales-60590685?at_medium=RSS&at_campaign=KARANGA",
         "Two writers on being Welsh when your appearance does not \"match an accepted aesthetic of Welshness\"."
        ],
        [
         "44",
         "Why Indian fathers are embracing paternity leave",
         "Sun, 06 Mar 2022 00:37:57 GMT",
         "https://www.bbc.co.uk/news/world-asia-india-60491095",
         "https://www.bbc.co.uk/news/world-asia-india-60491095?at_medium=RSS&at_campaign=KARANGA",
         "The pandemic and changing family structures have highlighted how young parents are struggling with childcare."
        ],
        [
         "45",
         "'Either they're not good enough or they don't care' - pundits react to Man Utd's derby display",
         "Sun, 06 Mar 2022 20:22:45 GMT",
         "https://www.bbc.co.uk/sport/football/60641764",
         "https://www.bbc.co.uk/sport/football/60641764?at_medium=RSS&at_campaign=KARANGA",
         "Manchester United legends savage the club's performance in their 4-1 derby defeat by Manchester City."
        ],
        [
         "46",
         "England bowler Robinson ruled out of first Test with back injury",
         "Sun, 06 Mar 2022 18:54:31 GMT",
         "https://www.bbc.co.uk/sport/cricket/60617043",
         "https://www.bbc.co.uk/sport/cricket/60617043?at_medium=RSS&at_campaign=KARANGA",
         "England seam bowler Ollie Robinson has been ruled out of the first Test against West Indies with a back injury."
        ],
        [
         "47",
         "Who's got his club buzzing again? - Garth's Team of the Week",
         "Sun, 06 Mar 2022 22:36:21 GMT",
         "https://www.bbc.co.uk/sport/football/60641470",
         "https://www.bbc.co.uk/sport/football/60641470?at_medium=RSS&at_campaign=KARANGA",
         "Who is a candidate for manager of the season? Who could play until he's 40? And who is back to their best? Find out in Garth Crooks' latest Team of the Week."
        ],
        [
         "48",
         "Welsh Open: Joe Perry beats Judd Trump to win title",
         "Sun, 06 Mar 2022 21:55:52 GMT",
         "https://www.bbc.co.uk/sport/snooker/60632805",
         "https://www.bbc.co.uk/sport/snooker/60632805?at_medium=RSS&at_campaign=KARANGA",
         "Joe Perry beats Judd Trump 9-5 to win the Welsh Open title for the first time at Celtic Manor Resort in Newport."
        ],
        [
         "49",
         "GB ski pairings win two more Paralympic bronzes",
         "Mon, 07 Mar 2022 08:34:59 GMT",
         "https://www.bbc.co.uk/sport/winter-sports/60643560",
         "https://www.bbc.co.uk/sport/winter-sports/60643560?at_medium=RSS&at_campaign=KARANGA",
         "Britain's Menna Fitzpatrick and Neil Simpson both win their second medals of the Beijing Winter Paralympics with super combined bronze."
        ]
       ],
       "shape": {
        "columns": 5,
        "rows": 42115
       }
      },
      "text/html": [
       "<div>\n",
       "<style scoped>\n",
       "    .dataframe tbody tr th:only-of-type {\n",
       "        vertical-align: middle;\n",
       "    }\n",
       "\n",
       "    .dataframe tbody tr th {\n",
       "        vertical-align: top;\n",
       "    }\n",
       "\n",
       "    .dataframe thead th {\n",
       "        text-align: right;\n",
       "    }\n",
       "</style>\n",
       "<table border=\"1\" class=\"dataframe\">\n",
       "  <thead>\n",
       "    <tr style=\"text-align: right;\">\n",
       "      <th></th>\n",
       "      <th>title</th>\n",
       "      <th>pubDate</th>\n",
       "      <th>guid</th>\n",
       "      <th>link</th>\n",
       "      <th>description</th>\n",
       "    </tr>\n",
       "  </thead>\n",
       "  <tbody>\n",
       "    <tr>\n",
       "      <th>0</th>\n",
       "      <td>Ukraine: Angry Zelensky vows to punish Russian...</td>\n",
       "      <td>Mon, 07 Mar 2022 08:01:56 GMT</td>\n",
       "      <td>https://www.bbc.co.uk/news/world-europe-60638042</td>\n",
       "      <td>https://www.bbc.co.uk/news/world-europe-606380...</td>\n",
       "      <td>The Ukrainian president says the country will ...</td>\n",
       "    </tr>\n",
       "    <tr>\n",
       "      <th>1</th>\n",
       "      <td>War in Ukraine: Taking cover in a town under a...</td>\n",
       "      <td>Sun, 06 Mar 2022 22:49:58 GMT</td>\n",
       "      <td>https://www.bbc.co.uk/news/world-europe-60641873</td>\n",
       "      <td>https://www.bbc.co.uk/news/world-europe-606418...</td>\n",
       "      <td>Jeremy Bowen was on the frontline in Irpin, as...</td>\n",
       "    </tr>\n",
       "    <tr>\n",
       "      <th>2</th>\n",
       "      <td>Ukraine war 'catastrophic for global food'</td>\n",
       "      <td>Mon, 07 Mar 2022 00:14:42 GMT</td>\n",
       "      <td>https://www.bbc.co.uk/news/business-60623941</td>\n",
       "      <td>https://www.bbc.co.uk/news/business-60623941?a...</td>\n",
       "      <td>One of the world's biggest fertiliser firms sa...</td>\n",
       "    </tr>\n",
       "    <tr>\n",
       "      <th>3</th>\n",
       "      <td>Manchester Arena bombing: Saffie Roussos's par...</td>\n",
       "      <td>Mon, 07 Mar 2022 00:05:40 GMT</td>\n",
       "      <td>https://www.bbc.co.uk/news/uk-60579079</td>\n",
       "      <td>https://www.bbc.co.uk/news/uk-60579079?at_medi...</td>\n",
       "      <td>The parents of the Manchester Arena bombing's ...</td>\n",
       "    </tr>\n",
       "    <tr>\n",
       "      <th>4</th>\n",
       "      <td>Ukraine conflict: Oil price soars to highest l...</td>\n",
       "      <td>Mon, 07 Mar 2022 08:15:53 GMT</td>\n",
       "      <td>https://www.bbc.co.uk/news/business-60642786</td>\n",
       "      <td>https://www.bbc.co.uk/news/business-60642786?a...</td>\n",
       "      <td>Consumers are feeling the impact of higher ene...</td>\n",
       "    </tr>\n",
       "    <tr>\n",
       "      <th>...</th>\n",
       "      <td>...</td>\n",
       "      <td>...</td>\n",
       "      <td>...</td>\n",
       "      <td>...</td>\n",
       "      <td>...</td>\n",
       "    </tr>\n",
       "    <tr>\n",
       "      <th>42110</th>\n",
       "      <td>Highlights: Wales make history in Dublin</td>\n",
       "      <td>Tue, 03 Dec 2024 23:07:27 GMT</td>\n",
       "      <td>https://www.bbc.com/sport/football/videos/ckg1...</td>\n",
       "      <td>https://www.bbc.com/sport/football/videos/ckg1...</td>\n",
       "      <td>Watch highlights as Wales win 2-1 in Dublin fo...</td>\n",
       "    </tr>\n",
       "    <tr>\n",
       "      <th>42111</th>\n",
       "      <td>Gang jailed over £200m of cocaine in banana boxes</td>\n",
       "      <td>Tue, 03 Dec 2024 17:48:54 GMT</td>\n",
       "      <td>https://www.bbc.com/news/articles/c3e8pvg284no#9</td>\n",
       "      <td>https://www.bbc.com/news/articles/c3e8pvg284no</td>\n",
       "      <td>More than two tonnes of the Class A drug was s...</td>\n",
       "    </tr>\n",
       "    <tr>\n",
       "      <th>42112</th>\n",
       "      <td>Scottish Budget presents huge challenges for SNP</td>\n",
       "      <td>Tue, 03 Dec 2024 23:00:17 GMT</td>\n",
       "      <td>https://www.bbc.com/news/articles/ckg1m1j2grpo#9</td>\n",
       "      <td>https://www.bbc.com/news/articles/ckg1m1j2grpo</td>\n",
       "      <td>Finance Secretary Shona Robison is preparing t...</td>\n",
       "    </tr>\n",
       "    <tr>\n",
       "      <th>42113</th>\n",
       "      <td>Celebrations as Wales make history qualifying ...</td>\n",
       "      <td>Wed, 04 Dec 2024 00:05:52 GMT</td>\n",
       "      <td>https://www.bbc.com/news/articles/c791nq8nl73o#9</td>\n",
       "      <td>https://www.bbc.com/news/articles/c791nq8nl73o</td>\n",
       "      <td>Wales defeated the Republic of Ireland 2-1 mak...</td>\n",
       "    </tr>\n",
       "    <tr>\n",
       "      <th>42114</th>\n",
       "      <td>School tells Muslim girls it’s ‘not safe’ for ...</td>\n",
       "      <td>Wed, 04 Dec 2024 00:03:58 GMT</td>\n",
       "      <td>https://www.bbc.com/news/articles/cx2wk0k4597o#9</td>\n",
       "      <td>https://www.bbc.com/news/articles/cx2wk0k4597o</td>\n",
       "      <td>Three children have not been back to the Belfa...</td>\n",
       "    </tr>\n",
       "  </tbody>\n",
       "</table>\n",
       "<p>42115 rows × 5 columns</p>\n",
       "</div>"
      ],
      "text/plain": [
       "                                                   title  \\\n",
       "0      Ukraine: Angry Zelensky vows to punish Russian...   \n",
       "1      War in Ukraine: Taking cover in a town under a...   \n",
       "2             Ukraine war 'catastrophic for global food'   \n",
       "3      Manchester Arena bombing: Saffie Roussos's par...   \n",
       "4      Ukraine conflict: Oil price soars to highest l...   \n",
       "...                                                  ...   \n",
       "42110           Highlights: Wales make history in Dublin   \n",
       "42111  Gang jailed over £200m of cocaine in banana boxes   \n",
       "42112   Scottish Budget presents huge challenges for SNP   \n",
       "42113  Celebrations as Wales make history qualifying ...   \n",
       "42114  School tells Muslim girls it’s ‘not safe’ for ...   \n",
       "\n",
       "                             pubDate  \\\n",
       "0      Mon, 07 Mar 2022 08:01:56 GMT   \n",
       "1      Sun, 06 Mar 2022 22:49:58 GMT   \n",
       "2      Mon, 07 Mar 2022 00:14:42 GMT   \n",
       "3      Mon, 07 Mar 2022 00:05:40 GMT   \n",
       "4      Mon, 07 Mar 2022 08:15:53 GMT   \n",
       "...                              ...   \n",
       "42110  Tue, 03 Dec 2024 23:07:27 GMT   \n",
       "42111  Tue, 03 Dec 2024 17:48:54 GMT   \n",
       "42112  Tue, 03 Dec 2024 23:00:17 GMT   \n",
       "42113  Wed, 04 Dec 2024 00:05:52 GMT   \n",
       "42114  Wed, 04 Dec 2024 00:03:58 GMT   \n",
       "\n",
       "                                                    guid  \\\n",
       "0       https://www.bbc.co.uk/news/world-europe-60638042   \n",
       "1       https://www.bbc.co.uk/news/world-europe-60641873   \n",
       "2           https://www.bbc.co.uk/news/business-60623941   \n",
       "3                 https://www.bbc.co.uk/news/uk-60579079   \n",
       "4           https://www.bbc.co.uk/news/business-60642786   \n",
       "...                                                  ...   \n",
       "42110  https://www.bbc.com/sport/football/videos/ckg1...   \n",
       "42111   https://www.bbc.com/news/articles/c3e8pvg284no#9   \n",
       "42112   https://www.bbc.com/news/articles/ckg1m1j2grpo#9   \n",
       "42113   https://www.bbc.com/news/articles/c791nq8nl73o#9   \n",
       "42114   https://www.bbc.com/news/articles/cx2wk0k4597o#9   \n",
       "\n",
       "                                                    link  \\\n",
       "0      https://www.bbc.co.uk/news/world-europe-606380...   \n",
       "1      https://www.bbc.co.uk/news/world-europe-606418...   \n",
       "2      https://www.bbc.co.uk/news/business-60623941?a...   \n",
       "3      https://www.bbc.co.uk/news/uk-60579079?at_medi...   \n",
       "4      https://www.bbc.co.uk/news/business-60642786?a...   \n",
       "...                                                  ...   \n",
       "42110  https://www.bbc.com/sport/football/videos/ckg1...   \n",
       "42111     https://www.bbc.com/news/articles/c3e8pvg284no   \n",
       "42112     https://www.bbc.com/news/articles/ckg1m1j2grpo   \n",
       "42113     https://www.bbc.com/news/articles/c791nq8nl73o   \n",
       "42114     https://www.bbc.com/news/articles/cx2wk0k4597o   \n",
       "\n",
       "                                             description  \n",
       "0      The Ukrainian president says the country will ...  \n",
       "1      Jeremy Bowen was on the frontline in Irpin, as...  \n",
       "2      One of the world's biggest fertiliser firms sa...  \n",
       "3      The parents of the Manchester Arena bombing's ...  \n",
       "4      Consumers are feeling the impact of higher ene...  \n",
       "...                                                  ...  \n",
       "42110  Watch highlights as Wales win 2-1 in Dublin fo...  \n",
       "42111  More than two tonnes of the Class A drug was s...  \n",
       "42112  Finance Secretary Shona Robison is preparing t...  \n",
       "42113  Wales defeated the Republic of Ireland 2-1 mak...  \n",
       "42114  Three children have not been back to the Belfa...  \n",
       "\n",
       "[42115 rows x 5 columns]"
      ]
     },
     "execution_count": 3,
     "metadata": {},
     "output_type": "execute_result"
    }
   ],
   "source": [
    "df = pd.read_csv(\"C:\\\\Users\\\\Miguel António\\\\Desktop\\\\PORTFOLIO\\\\nlp_news_classifier\\\\data\\\\bbc_news.csv\")\n",
    "df"
   ]
  },
  {
   "cell_type": "code",
   "execution_count": 4,
   "id": "ddb22d26",
   "metadata": {},
   "outputs": [
    {
     "data": {
      "text/plain": [
       "Index(['title', 'pubDate', 'guid', 'link', 'description'], dtype='object')"
      ]
     },
     "execution_count": 4,
     "metadata": {},
     "output_type": "execute_result"
    }
   ],
   "source": [
    "df.columns"
   ]
  },
  {
   "cell_type": "code",
   "execution_count": null,
   "id": "d6d97e18",
   "metadata": {},
   "outputs": [
    {
     "name": "stdout",
     "output_type": "stream",
     "text": [
      "title : 39653\n",
      "pubDate : 40189\n",
      "guid : 39203\n",
      "link : 37856\n",
      "description : 38731\n"
     ]
    },
    {
     "ename": "TypeError",
     "evalue": "unhashable type: 'numpy.ndarray'",
     "output_type": "error",
     "traceback": [
      "\u001b[1;31m---------------------------------------------------------------------------\u001b[0m",
      "\u001b[1;31mTypeError\u001b[0m                                 Traceback (most recent call last)",
      "Cell \u001b[1;32mIn[13], line 8\u001b[0m\n\u001b[0;32m      5\u001b[0m values \u001b[38;5;241m=\u001b[39m [df[\u001b[38;5;124m\"\u001b[39m\u001b[38;5;124mtitle\u001b[39m\u001b[38;5;124m\"\u001b[39m], df[\u001b[38;5;124m\"\u001b[39m\u001b[38;5;124mpubDate\u001b[39m\u001b[38;5;124m\"\u001b[39m], df[\u001b[38;5;124m\"\u001b[39m\u001b[38;5;124mguid\u001b[39m\u001b[38;5;124m\"\u001b[39m], df[\u001b[38;5;124m\"\u001b[39m\u001b[38;5;124mlink\u001b[39m\u001b[38;5;124m\"\u001b[39m], df[\u001b[38;5;124m\"\u001b[39m\u001b[38;5;124mdescription\u001b[39m\u001b[38;5;124m\"\u001b[39m]]\n\u001b[0;32m      6\u001b[0m columns \u001b[38;5;241m=\u001b[39m [\u001b[38;5;124m\"\u001b[39m\u001b[38;5;124mtitle\u001b[39m\u001b[38;5;124m\"\u001b[39m, \u001b[38;5;124m\"\u001b[39m\u001b[38;5;124mpubDate\u001b[39m\u001b[38;5;124m\"\u001b[39m, \u001b[38;5;124m\"\u001b[39m\u001b[38;5;124mguid\u001b[39m\u001b[38;5;124m\"\u001b[39m, \u001b[38;5;124m\"\u001b[39m\u001b[38;5;124mlink\u001b[39m\u001b[38;5;124m\"\u001b[39m, \u001b[38;5;124m\"\u001b[39m\u001b[38;5;124mdescription\u001b[39m\u001b[38;5;124m\"\u001b[39m]\n\u001b[1;32m----> 8\u001b[0m \u001b[43mplt\u001b[49m\u001b[38;5;241;43m.\u001b[39;49m\u001b[43mbar\u001b[49m\u001b[43m(\u001b[49m\u001b[43mcolumns\u001b[49m\u001b[43m,\u001b[49m\u001b[43m \u001b[49m\u001b[43mvalues\u001b[49m\u001b[43m)\u001b[49m\n\u001b[0;32m      9\u001b[0m plt\u001b[38;5;241m.\u001b[39mtitle(\u001b[38;5;124m'\u001b[39m\u001b[38;5;124mVariables Distribution\u001b[39m\u001b[38;5;124m'\u001b[39m)\n\u001b[0;32m     10\u001b[0m plt\u001b[38;5;241m.\u001b[39mxlabel(\u001b[38;5;124m'\u001b[39m\u001b[38;5;124mColumns\u001b[39m\u001b[38;5;124m'\u001b[39m)\n",
      "File \u001b[1;32mc:\\Users\\Miguel António\\AppData\\Local\\Programs\\Python\\Python311\\Lib\\site-packages\\matplotlib\\pyplot.py:2754\u001b[0m, in \u001b[0;36mbar\u001b[1;34m(x, height, width, bottom, align, data, **kwargs)\u001b[0m\n\u001b[0;32m   2743\u001b[0m \u001b[38;5;129m@_copy_docstring_and_deprecators\u001b[39m(Axes\u001b[38;5;241m.\u001b[39mbar)\n\u001b[0;32m   2744\u001b[0m \u001b[38;5;28;01mdef\u001b[39;00m \u001b[38;5;21mbar\u001b[39m(\n\u001b[0;32m   2745\u001b[0m     x: \u001b[38;5;28mfloat\u001b[39m \u001b[38;5;241m|\u001b[39m ArrayLike,\n\u001b[1;32m   (...)\u001b[0m\n\u001b[0;32m   2752\u001b[0m     \u001b[38;5;241m*\u001b[39m\u001b[38;5;241m*\u001b[39mkwargs,\n\u001b[0;32m   2753\u001b[0m ) \u001b[38;5;241m-\u001b[39m\u001b[38;5;241m>\u001b[39m BarContainer:\n\u001b[1;32m-> 2754\u001b[0m     \u001b[38;5;28;01mreturn\u001b[39;00m \u001b[43mgca\u001b[49m\u001b[43m(\u001b[49m\u001b[43m)\u001b[49m\u001b[38;5;241;43m.\u001b[39;49m\u001b[43mbar\u001b[49m\u001b[43m(\u001b[49m\n\u001b[0;32m   2755\u001b[0m \u001b[43m        \u001b[49m\u001b[43mx\u001b[49m\u001b[43m,\u001b[49m\n\u001b[0;32m   2756\u001b[0m \u001b[43m        \u001b[49m\u001b[43mheight\u001b[49m\u001b[43m,\u001b[49m\n\u001b[0;32m   2757\u001b[0m \u001b[43m        \u001b[49m\u001b[43mwidth\u001b[49m\u001b[38;5;241;43m=\u001b[39;49m\u001b[43mwidth\u001b[49m\u001b[43m,\u001b[49m\n\u001b[0;32m   2758\u001b[0m \u001b[43m        \u001b[49m\u001b[43mbottom\u001b[49m\u001b[38;5;241;43m=\u001b[39;49m\u001b[43mbottom\u001b[49m\u001b[43m,\u001b[49m\n\u001b[0;32m   2759\u001b[0m \u001b[43m        \u001b[49m\u001b[43malign\u001b[49m\u001b[38;5;241;43m=\u001b[39;49m\u001b[43malign\u001b[49m\u001b[43m,\u001b[49m\n\u001b[0;32m   2760\u001b[0m \u001b[43m        \u001b[49m\u001b[38;5;241;43m*\u001b[39;49m\u001b[38;5;241;43m*\u001b[39;49m\u001b[43m(\u001b[49m\u001b[43m{\u001b[49m\u001b[38;5;124;43m\"\u001b[39;49m\u001b[38;5;124;43mdata\u001b[39;49m\u001b[38;5;124;43m\"\u001b[39;49m\u001b[43m:\u001b[49m\u001b[43m \u001b[49m\u001b[43mdata\u001b[49m\u001b[43m}\u001b[49m\u001b[43m \u001b[49m\u001b[38;5;28;43;01mif\u001b[39;49;00m\u001b[43m \u001b[49m\u001b[43mdata\u001b[49m\u001b[43m \u001b[49m\u001b[38;5;129;43;01mis\u001b[39;49;00m\u001b[43m \u001b[49m\u001b[38;5;129;43;01mnot\u001b[39;49;00m\u001b[43m \u001b[49m\u001b[38;5;28;43;01mNone\u001b[39;49;00m\u001b[43m \u001b[49m\u001b[38;5;28;43;01melse\u001b[39;49;00m\u001b[43m \u001b[49m\u001b[43m{\u001b[49m\u001b[43m}\u001b[49m\u001b[43m)\u001b[49m\u001b[43m,\u001b[49m\n\u001b[0;32m   2761\u001b[0m \u001b[43m        \u001b[49m\u001b[38;5;241;43m*\u001b[39;49m\u001b[38;5;241;43m*\u001b[39;49m\u001b[43mkwargs\u001b[49m\u001b[43m,\u001b[49m\n\u001b[0;32m   2762\u001b[0m \u001b[43m    \u001b[49m\u001b[43m)\u001b[49m\n",
      "File \u001b[1;32mc:\\Users\\Miguel António\\AppData\\Local\\Programs\\Python\\Python311\\Lib\\site-packages\\matplotlib\\__init__.py:1478\u001b[0m, in \u001b[0;36m_preprocess_data.<locals>.inner\u001b[1;34m(ax, data, *args, **kwargs)\u001b[0m\n\u001b[0;32m   1475\u001b[0m \u001b[38;5;129m@functools\u001b[39m\u001b[38;5;241m.\u001b[39mwraps(func)\n\u001b[0;32m   1476\u001b[0m \u001b[38;5;28;01mdef\u001b[39;00m \u001b[38;5;21minner\u001b[39m(ax, \u001b[38;5;241m*\u001b[39margs, data\u001b[38;5;241m=\u001b[39m\u001b[38;5;28;01mNone\u001b[39;00m, \u001b[38;5;241m*\u001b[39m\u001b[38;5;241m*\u001b[39mkwargs):\n\u001b[0;32m   1477\u001b[0m     \u001b[38;5;28;01mif\u001b[39;00m data \u001b[38;5;129;01mis\u001b[39;00m \u001b[38;5;28;01mNone\u001b[39;00m:\n\u001b[1;32m-> 1478\u001b[0m         \u001b[38;5;28;01mreturn\u001b[39;00m \u001b[43mfunc\u001b[49m\u001b[43m(\u001b[49m\u001b[43max\u001b[49m\u001b[43m,\u001b[49m\u001b[43m \u001b[49m\u001b[38;5;241;43m*\u001b[39;49m\u001b[38;5;28;43mmap\u001b[39;49m\u001b[43m(\u001b[49m\u001b[43msanitize_sequence\u001b[49m\u001b[43m,\u001b[49m\u001b[43m \u001b[49m\u001b[43margs\u001b[49m\u001b[43m)\u001b[49m\u001b[43m,\u001b[49m\u001b[43m \u001b[49m\u001b[38;5;241;43m*\u001b[39;49m\u001b[38;5;241;43m*\u001b[39;49m\u001b[43mkwargs\u001b[49m\u001b[43m)\u001b[49m\n\u001b[0;32m   1480\u001b[0m     bound \u001b[38;5;241m=\u001b[39m new_sig\u001b[38;5;241m.\u001b[39mbind(ax, \u001b[38;5;241m*\u001b[39margs, \u001b[38;5;241m*\u001b[39m\u001b[38;5;241m*\u001b[39mkwargs)\n\u001b[0;32m   1481\u001b[0m     auto_label \u001b[38;5;241m=\u001b[39m (bound\u001b[38;5;241m.\u001b[39marguments\u001b[38;5;241m.\u001b[39mget(label_namer)\n\u001b[0;32m   1482\u001b[0m                   \u001b[38;5;129;01mor\u001b[39;00m bound\u001b[38;5;241m.\u001b[39mkwargs\u001b[38;5;241m.\u001b[39mget(label_namer))\n",
      "File \u001b[1;32mc:\\Users\\Miguel António\\AppData\\Local\\Programs\\Python\\Python311\\Lib\\site-packages\\matplotlib\\axes\\_axes.py:2433\u001b[0m, in \u001b[0;36mAxes.bar\u001b[1;34m(self, x, height, width, bottom, align, **kwargs)\u001b[0m\n\u001b[0;32m   2427\u001b[0m         x \u001b[38;5;241m=\u001b[39m \u001b[38;5;241m0\u001b[39m\n\u001b[0;32m   2429\u001b[0m \u001b[38;5;28;01mif\u001b[39;00m orientation \u001b[38;5;241m==\u001b[39m \u001b[38;5;124m'\u001b[39m\u001b[38;5;124mvertical\u001b[39m\u001b[38;5;124m'\u001b[39m:\n\u001b[0;32m   2430\u001b[0m     \u001b[38;5;66;03m# It is possible for y (bottom) to contain unit information.\u001b[39;00m\n\u001b[0;32m   2431\u001b[0m     \u001b[38;5;66;03m# However, it is also possible for y=0 for the default and height\u001b[39;00m\n\u001b[0;32m   2432\u001b[0m     \u001b[38;5;66;03m# to contain unit information.  This will prioritize the units of y.\u001b[39;00m\n\u001b[1;32m-> 2433\u001b[0m     \u001b[38;5;28;43mself\u001b[39;49m\u001b[38;5;241;43m.\u001b[39;49m\u001b[43m_process_unit_info\u001b[49m\u001b[43m(\u001b[49m\n\u001b[0;32m   2434\u001b[0m \u001b[43m        \u001b[49m\u001b[43m[\u001b[49m\u001b[43m(\u001b[49m\u001b[38;5;124;43m\"\u001b[39;49m\u001b[38;5;124;43mx\u001b[39;49m\u001b[38;5;124;43m\"\u001b[39;49m\u001b[43m,\u001b[49m\u001b[43m \u001b[49m\u001b[43mx\u001b[49m\u001b[43m)\u001b[49m\u001b[43m,\u001b[49m\u001b[43m \u001b[49m\u001b[43m(\u001b[49m\u001b[38;5;124;43m\"\u001b[39;49m\u001b[38;5;124;43my\u001b[39;49m\u001b[38;5;124;43m\"\u001b[39;49m\u001b[43m,\u001b[49m\u001b[43m \u001b[49m\u001b[43my\u001b[49m\u001b[43m)\u001b[49m\u001b[43m,\u001b[49m\u001b[43m \u001b[49m\u001b[43m(\u001b[49m\u001b[38;5;124;43m\"\u001b[39;49m\u001b[38;5;124;43my\u001b[39;49m\u001b[38;5;124;43m\"\u001b[39;49m\u001b[43m,\u001b[49m\u001b[43m \u001b[49m\u001b[43mheight\u001b[49m\u001b[43m)\u001b[49m\u001b[43m]\u001b[49m\u001b[43m,\u001b[49m\u001b[43m \u001b[49m\u001b[43mkwargs\u001b[49m\u001b[43m,\u001b[49m\u001b[43m \u001b[49m\u001b[43mconvert\u001b[49m\u001b[38;5;241;43m=\u001b[39;49m\u001b[38;5;28;43;01mFalse\u001b[39;49;00m\u001b[43m)\u001b[49m\n\u001b[0;32m   2435\u001b[0m     \u001b[38;5;28;01mif\u001b[39;00m log:\n\u001b[0;32m   2436\u001b[0m         \u001b[38;5;28mself\u001b[39m\u001b[38;5;241m.\u001b[39mset_yscale(\u001b[38;5;124m'\u001b[39m\u001b[38;5;124mlog\u001b[39m\u001b[38;5;124m'\u001b[39m, nonpositive\u001b[38;5;241m=\u001b[39m\u001b[38;5;124m'\u001b[39m\u001b[38;5;124mclip\u001b[39m\u001b[38;5;124m'\u001b[39m)\n",
      "File \u001b[1;32mc:\\Users\\Miguel António\\AppData\\Local\\Programs\\Python\\Python311\\Lib\\site-packages\\matplotlib\\axes\\_base.py:2555\u001b[0m, in \u001b[0;36m_AxesBase._process_unit_info\u001b[1;34m(self, datasets, kwargs, convert)\u001b[0m\n\u001b[0;32m   2553\u001b[0m     \u001b[38;5;66;03m# Update from data if axis is already set but no unit is set yet.\u001b[39;00m\n\u001b[0;32m   2554\u001b[0m     \u001b[38;5;28;01mif\u001b[39;00m axis \u001b[38;5;129;01mis\u001b[39;00m \u001b[38;5;129;01mnot\u001b[39;00m \u001b[38;5;28;01mNone\u001b[39;00m \u001b[38;5;129;01mand\u001b[39;00m data \u001b[38;5;129;01mis\u001b[39;00m \u001b[38;5;129;01mnot\u001b[39;00m \u001b[38;5;28;01mNone\u001b[39;00m \u001b[38;5;129;01mand\u001b[39;00m \u001b[38;5;129;01mnot\u001b[39;00m axis\u001b[38;5;241m.\u001b[39mhave_units():\n\u001b[1;32m-> 2555\u001b[0m         \u001b[43maxis\u001b[49m\u001b[38;5;241;43m.\u001b[39;49m\u001b[43mupdate_units\u001b[49m\u001b[43m(\u001b[49m\u001b[43mdata\u001b[49m\u001b[43m)\u001b[49m\n\u001b[0;32m   2556\u001b[0m \u001b[38;5;28;01mfor\u001b[39;00m axis_name, axis \u001b[38;5;129;01min\u001b[39;00m axis_map\u001b[38;5;241m.\u001b[39mitems():\n\u001b[0;32m   2557\u001b[0m     \u001b[38;5;66;03m# Return if no axis is set.\u001b[39;00m\n\u001b[0;32m   2558\u001b[0m     \u001b[38;5;28;01mif\u001b[39;00m axis \u001b[38;5;129;01mis\u001b[39;00m \u001b[38;5;28;01mNone\u001b[39;00m:\n",
      "File \u001b[1;32mc:\\Users\\Miguel António\\AppData\\Local\\Programs\\Python\\Python311\\Lib\\site-packages\\matplotlib\\axis.py:1712\u001b[0m, in \u001b[0;36mAxis.update_units\u001b[1;34m(self, data)\u001b[0m\n\u001b[0;32m   1710\u001b[0m neednew \u001b[38;5;241m=\u001b[39m \u001b[38;5;28mself\u001b[39m\u001b[38;5;241m.\u001b[39mconverter \u001b[38;5;241m!=\u001b[39m converter\n\u001b[0;32m   1711\u001b[0m \u001b[38;5;28mself\u001b[39m\u001b[38;5;241m.\u001b[39mconverter \u001b[38;5;241m=\u001b[39m converter\n\u001b[1;32m-> 1712\u001b[0m default \u001b[38;5;241m=\u001b[39m \u001b[38;5;28;43mself\u001b[39;49m\u001b[38;5;241;43m.\u001b[39;49m\u001b[43mconverter\u001b[49m\u001b[38;5;241;43m.\u001b[39;49m\u001b[43mdefault_units\u001b[49m\u001b[43m(\u001b[49m\u001b[43mdata\u001b[49m\u001b[43m,\u001b[49m\u001b[43m \u001b[49m\u001b[38;5;28;43mself\u001b[39;49m\u001b[43m)\u001b[49m\n\u001b[0;32m   1713\u001b[0m \u001b[38;5;28;01mif\u001b[39;00m default \u001b[38;5;129;01mis\u001b[39;00m \u001b[38;5;129;01mnot\u001b[39;00m \u001b[38;5;28;01mNone\u001b[39;00m \u001b[38;5;129;01mand\u001b[39;00m \u001b[38;5;28mself\u001b[39m\u001b[38;5;241m.\u001b[39munits \u001b[38;5;129;01mis\u001b[39;00m \u001b[38;5;28;01mNone\u001b[39;00m:\n\u001b[0;32m   1714\u001b[0m     \u001b[38;5;28mself\u001b[39m\u001b[38;5;241m.\u001b[39mset_units(default)\n",
      "File \u001b[1;32mc:\\Users\\Miguel António\\AppData\\Local\\Programs\\Python\\Python311\\Lib\\site-packages\\matplotlib\\category.py:105\u001b[0m, in \u001b[0;36mStrCategoryConverter.default_units\u001b[1;34m(data, axis)\u001b[0m\n\u001b[0;32m    103\u001b[0m \u001b[38;5;66;03m# the conversion call stack is default_units -> axis_info -> convert\u001b[39;00m\n\u001b[0;32m    104\u001b[0m \u001b[38;5;28;01mif\u001b[39;00m axis\u001b[38;5;241m.\u001b[39munits \u001b[38;5;129;01mis\u001b[39;00m \u001b[38;5;28;01mNone\u001b[39;00m:\n\u001b[1;32m--> 105\u001b[0m     axis\u001b[38;5;241m.\u001b[39mset_units(\u001b[43mUnitData\u001b[49m\u001b[43m(\u001b[49m\u001b[43mdata\u001b[49m\u001b[43m)\u001b[49m)\n\u001b[0;32m    106\u001b[0m \u001b[38;5;28;01melse\u001b[39;00m:\n\u001b[0;32m    107\u001b[0m     axis\u001b[38;5;241m.\u001b[39munits\u001b[38;5;241m.\u001b[39mupdate(data)\n",
      "File \u001b[1;32mc:\\Users\\Miguel António\\AppData\\Local\\Programs\\Python\\Python311\\Lib\\site-packages\\matplotlib\\category.py:181\u001b[0m, in \u001b[0;36mUnitData.__init__\u001b[1;34m(self, data)\u001b[0m\n\u001b[0;32m    179\u001b[0m \u001b[38;5;28mself\u001b[39m\u001b[38;5;241m.\u001b[39m_counter \u001b[38;5;241m=\u001b[39m itertools\u001b[38;5;241m.\u001b[39mcount()\n\u001b[0;32m    180\u001b[0m \u001b[38;5;28;01mif\u001b[39;00m data \u001b[38;5;129;01mis\u001b[39;00m \u001b[38;5;129;01mnot\u001b[39;00m \u001b[38;5;28;01mNone\u001b[39;00m:\n\u001b[1;32m--> 181\u001b[0m     \u001b[38;5;28;43mself\u001b[39;49m\u001b[38;5;241;43m.\u001b[39;49m\u001b[43mupdate\u001b[49m\u001b[43m(\u001b[49m\u001b[43mdata\u001b[49m\u001b[43m)\u001b[49m\n",
      "File \u001b[1;32mc:\\Users\\Miguel António\\AppData\\Local\\Programs\\Python\\Python311\\Lib\\site-packages\\matplotlib\\category.py:214\u001b[0m, in \u001b[0;36mUnitData.update\u001b[1;34m(self, data)\u001b[0m\n\u001b[0;32m    212\u001b[0m \u001b[38;5;66;03m# check if convertible to number:\u001b[39;00m\n\u001b[0;32m    213\u001b[0m convertible \u001b[38;5;241m=\u001b[39m \u001b[38;5;28;01mTrue\u001b[39;00m\n\u001b[1;32m--> 214\u001b[0m \u001b[38;5;28;01mfor\u001b[39;00m val \u001b[38;5;129;01min\u001b[39;00m \u001b[43mOrderedDict\u001b[49m\u001b[38;5;241;43m.\u001b[39;49m\u001b[43mfromkeys\u001b[49m\u001b[43m(\u001b[49m\u001b[43mdata\u001b[49m\u001b[43m)\u001b[49m:\n\u001b[0;32m    215\u001b[0m     \u001b[38;5;66;03m# OrderedDict just iterates over unique values in data.\u001b[39;00m\n\u001b[0;32m    216\u001b[0m     _api\u001b[38;5;241m.\u001b[39mcheck_isinstance((\u001b[38;5;28mstr\u001b[39m, \u001b[38;5;28mbytes\u001b[39m), value\u001b[38;5;241m=\u001b[39mval)\n\u001b[0;32m    217\u001b[0m     \u001b[38;5;28;01mif\u001b[39;00m convertible:\n\u001b[0;32m    218\u001b[0m         \u001b[38;5;66;03m# this will only be called so long as convertible is True.\u001b[39;00m\n",
      "\u001b[1;31mTypeError\u001b[0m: unhashable type: 'numpy.ndarray'"
     ]
    },
    {
     "data": {
      "image/png": "[encoded data removed]",
      "text/plain": [
       "<Figure size 640x480 with 1 Axes>"
      ]
     },
     "metadata": {},
     "output_type": "display_data"
    }
   ],
   "source": [
    "for col in df:\n",
    "    print(col,\":\",len(df[col].unique()))\n",
    "\n",
    "\n",
    "unique_counts = {}\n",
    "columns_to_plot = [\"title\", \"pubDate\", \"guid\", \"link\", \"description\"]\n",
    "\n",
    "for col in columns_to_plot:\n",
    "    if col in df.columns: \n",
    "        unique_counts[col] = len(df[col].unique())\n",
    "    else:\n",
    "        print(f\"Warning: Column '{col}' not found in DataFrame.\")\n",
    "\n",
    "plot_columns = list(unique_counts.keys())\n",
    "plot_values = list(unique_counts.values())\n",
    "\n",
    "plt.figure(figsize=(10, 6)) \n",
    "plt.bar(plot_columns, plot_values, color='skyblue') \n",
    "plt.title('Distribution of Unique Values per Column')\n",
    "plt.xlabel('Columns')\n",
    "plt.ylabel('Number of Unique Values')\n",
    "plt.xticks(rotation=45, ha='right') \n",
    "plt.tight_layout()\n",
    "plt.show()"
   ]
  }
 ],
 "metadata": {
  "kernelspec": {
   "display_name": "Python 3",
   "language": "python",
   "name": "python3"
  },
  "language_info": {
   "codemirror_mode": {
    "name": "ipython",
    "version": 3
   },
   "file_extension": ".py",
   "mimetype": "text/x-python",
   "name": "python",
   "nbconvert_exporter": "python",
   "pygments_lexer": "ipython3",
   "version": "3.11.0"
  }
 },
 "nbformat": 4,
 "nbformat_minor": 5
}
